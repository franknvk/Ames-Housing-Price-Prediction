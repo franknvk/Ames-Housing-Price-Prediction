{
 "cells": [
  {
   "cell_type": "code",
   "execution_count": 1,
   "metadata": {},
   "outputs": [],
   "source": [
    "import pandas as pd\n",
    "import numpy as np\n",
    "import matplotlib.pyplot as plt\n",
    "import seaborn as sns\n",
    "\n",
    "from sklearn.linear_model import LinearRegression, Lasso, Ridge\n",
    "\n",
    "from sklearn.metrics import mean_squared_error\n",
    "from sklearn.model_selection import train_test_split, GridSearchCV\n",
    "from sklearn.preprocessing import StandardScaler, OrdinalEncoder, OneHotEncoder\n",
    "from sklearn.pipeline import make_pipeline, Pipeline\n",
    "from statsmodels.stats.outliers_influence import variance_inflation_factor"
   ]
  },
  {
   "cell_type": "code",
   "execution_count": 2,
   "metadata": {},
   "outputs": [],
   "source": [
    "train_df = pd.read_csv(\"datasets/final_train_df.csv\")\n",
    "test_df = pd.read_csv(\"datasets/final_test_df.csv\")\n",
    "test = pd.read_csv(\"datasets/final_kaggle_data.csv\")"
   ]
  },
  {
   "cell_type": "code",
   "execution_count": 3,
   "metadata": {},
   "outputs": [],
   "source": [
    "#split X,y now that values are in order\n",
    "X_train = train_df.drop(columns = ['id','pid','saleprice'])\n",
    "y_train = train_df['saleprice']"
   ]
  },
  {
   "cell_type": "code",
   "execution_count": 4,
   "metadata": {},
   "outputs": [],
   "source": [
    "test_ids = test[['id']]"
   ]
  },
  {
   "cell_type": "markdown",
   "metadata": {},
   "source": [
    "### VIF Feature Dropping DataFrame"
   ]
  },
  {
   "cell_type": "code",
   "execution_count": 5,
   "metadata": {},
   "outputs": [],
   "source": [
    "#recursive loop to check multicolinearity and remove variables that do not pass the threshold. (5)\n",
    "\n",
    "def vif_dropper(df):  #input a dataframe\n",
    "    df_new = df\n",
    "    \n",
    "    while True:  #creating a while loop\n",
    "        \n",
    "        df_vif = pd.DataFrame()        # create blank dataframe and assigning it to vif_data\n",
    "        df_vif[\"feature\"] = df_new.columns \n",
    "        df_vif[\"VIF\"] = [variance_inflation_factor(df_new.values, i) for i in range(len(df.columns))]\n",
    "\n",
    "        v = df_vif[df_vif['VIF'] != float('inf')] #filter df for VIF values that  are not inf & saving to new df called v\n",
    "    \n",
    "        m = max([i for i in v['VIF']])   # for each of the VIF vals in v df, return the max\n",
    "        print(m)\n",
    "        if m < 5:\n",
    "            break\n",
    "            \n",
    "        else:\n",
    "            feature = df_vif.iloc[df_vif[df_vif['VIF'] == m].index]['feature'].values[0]\n",
    "            df_new.drop(columns = feature,inplace =True)\n",
    "            print(feature)\n",
    "            \n",
    "    return df_new"
   ]
  },
  {
   "cell_type": "code",
   "execution_count": null,
   "metadata": {},
   "outputs": [
    {
     "name": "stderr",
     "output_type": "stream",
     "text": [
      "/opt/anaconda3/envs/dsi/lib/python3.9/site-packages/statsmodels/stats/outliers_influence.py:193: RuntimeWarning: divide by zero encountered in double_scalars\n",
      "  vif = 1. / (1. - r_squared_i)\n"
     ]
    },
    {
     "name": "stdout",
     "output_type": "stream",
     "text": [
      "107843.24480378188\n",
      "bsmtfin_sf_1\n"
     ]
    }
   ],
   "source": [
    "#dropping variables of multicolinearity and saving to new dataframe\n",
    "X_train_vif = vif_dropper(X_train)"
   ]
  },
  {
   "cell_type": "markdown",
   "metadata": {},
   "source": [
    "## Modeling"
   ]
  },
  {
   "cell_type": "code",
   "execution_count": null,
   "metadata": {},
   "outputs": [],
   "source": [
    "#evening out columns in both the test set and the x_train_vif set since some dummied variables were not considered due to values within the set \n",
    "dropset = set(test) - set(X_train_vif)\n",
    "dropset\n",
    "test = test.drop(columns = dropset)"
   ]
  },
  {
   "cell_type": "code",
   "execution_count": null,
   "metadata": {},
   "outputs": [],
   "source": [
    "#evening out columns in both the test set and the x_train_vif set since some dummied variables were not considered due to values within the set \n",
    "dropset = set(X_train_vif) - set(test)\n",
    "dropset\n",
    "X_train_vif = X_train_vif.drop(columns = dropset)"
   ]
  },
  {
   "cell_type": "code",
   "execution_count": null,
   "metadata": {},
   "outputs": [],
   "source": [
    "lasso = Lasso(max_iter=5000)\n",
    "params = {'alpha':np.logspace(0,2,20)}\n",
    "grid = GridSearchCV(lasso,params,n_jobs=-1,cv=5)\n",
    "grid.fit(X_train_vif,y_train)"
   ]
  },
  {
   "cell_type": "code",
   "execution_count": null,
   "metadata": {},
   "outputs": [],
   "source": [
    "y_preds = grid.predict(test)"
   ]
  },
  {
   "cell_type": "code",
   "execution_count": null,
   "metadata": {},
   "outputs": [],
   "source": [
    "preds_df = pd.DataFrame(y_preds,columns = ['saleprice'])"
   ]
  },
  {
   "cell_type": "code",
   "execution_count": null,
   "metadata": {},
   "outputs": [],
   "source": [
    "test_ids"
   ]
  },
  {
   "cell_type": "code",
   "execution_count": null,
   "metadata": {},
   "outputs": [],
   "source": [
    "preds_df = pd.concat([test_ids['id'],preds_df],axis=1)"
   ]
  },
  {
   "cell_type": "code",
   "execution_count": null,
   "metadata": {},
   "outputs": [],
   "source": [
    "preds_df = preds_df.rename(columns = {'id':\"Id\",\"SalePrice\":'sample_soln'})[:260]\n",
    "preds_df = preds_df.reset_index().drop(columns = 'Id')"
   ]
  },
  {
   "cell_type": "code",
   "execution_count": null,
   "metadata": {},
   "outputs": [],
   "source": [
    "preds_df = preds_df.rename(columns = {'index':\"Id\"})\n",
    "preds_df"
   ]
  },
  {
   "cell_type": "code",
   "execution_count": null,
   "metadata": {},
   "outputs": [],
   "source": [
    "preds_df.to_csv('datasets/kaggle_submission.csv',header = True,index=False)"
   ]
  },
  {
   "cell_type": "code",
   "execution_count": null,
   "metadata": {},
   "outputs": [],
   "source": [
    "y_preds = pd.DataFrame([y_train.mean() for x in y_train])"
   ]
  },
  {
   "cell_type": "code",
   "execution_count": null,
   "metadata": {},
   "outputs": [],
   "source": [
    "y_preds = y_preds.reset_index().rename(columns = {'index':\"Id\",0:'sample_soln'})"
   ]
  },
  {
   "cell_type": "code",
   "execution_count": null,
   "metadata": {},
   "outputs": [],
   "source": [
    "y_preds[:260].to_csv('datasets/kaggle_submission.csv',header = True,index=False)"
   ]
  },
  {
   "cell_type": "code",
   "execution_count": null,
   "metadata": {},
   "outputs": [],
   "source": [
    "y_preds[:260]"
   ]
  }
 ],
 "metadata": {
  "kernelspec": {
   "display_name": "Python [conda env:dsi]",
   "language": "python",
   "name": "conda-env-dsi-py"
  },
  "language_info": {
   "codemirror_mode": {
    "name": "ipython",
    "version": 3
   },
   "file_extension": ".py",
   "mimetype": "text/x-python",
   "name": "python",
   "nbconvert_exporter": "python",
   "pygments_lexer": "ipython3",
   "version": "3.9.7"
  }
 },
 "nbformat": 4,
 "nbformat_minor": 4
}
